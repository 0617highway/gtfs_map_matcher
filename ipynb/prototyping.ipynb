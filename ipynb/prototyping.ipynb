{
 "cells": [
  {
   "cell_type": "code",
   "execution_count": 1,
   "metadata": {},
   "outputs": [],
   "source": [
    "from pathlib import Path\n",
    "import json\n",
    "\n",
    "import gtfstk as gt\n",
    "import pandas as pd\n",
    "import numpy as np\n",
    "import shapely.geometry as sg\n",
    "import googlemaps\n",
    "import polyline\n",
    "import requests\n",
    "\n",
    "\n",
    "DATA_DIR = Path('../data')\n",
    "OUT_DIR = Path('../output')"
   ]
  },
  {
   "cell_type": "code",
   "execution_count": 2,
   "metadata": {},
   "outputs": [
    {
     "data": {
      "text/html": [
       "<div>\n",
       "<style>\n",
       "    .dataframe thead tr:only-child th {\n",
       "        text-align: right;\n",
       "    }\n",
       "\n",
       "    .dataframe thead th {\n",
       "        text-align: left;\n",
       "    }\n",
       "\n",
       "    .dataframe tbody tr th {\n",
       "        vertical-align: top;\n",
       "    }\n",
       "</style>\n",
       "<table border=\"1\" class=\"dataframe\">\n",
       "  <thead>\n",
       "    <tr style=\"text-align: right;\">\n",
       "      <th></th>\n",
       "      <th>indicator</th>\n",
       "      <th>value</th>\n",
       "    </tr>\n",
       "  </thead>\n",
       "  <tbody>\n",
       "    <tr>\n",
       "      <th>0</th>\n",
       "      <td>num_route_short_names_duplicated</td>\n",
       "      <td>0</td>\n",
       "    </tr>\n",
       "    <tr>\n",
       "      <th>1</th>\n",
       "      <td>frac_route_short_names_duplicated</td>\n",
       "      <td>0</td>\n",
       "    </tr>\n",
       "    <tr>\n",
       "      <th>2</th>\n",
       "      <td>num_stop_time_dists_missing</td>\n",
       "      <td>340007</td>\n",
       "    </tr>\n",
       "    <tr>\n",
       "      <th>3</th>\n",
       "      <td>frac_stop_time_dists_missing</td>\n",
       "      <td>1</td>\n",
       "    </tr>\n",
       "    <tr>\n",
       "      <th>4</th>\n",
       "      <td>num_direction_ids_missing</td>\n",
       "      <td>0</td>\n",
       "    </tr>\n",
       "    <tr>\n",
       "      <th>5</th>\n",
       "      <td>frac_direction_ids_missing</td>\n",
       "      <td>0</td>\n",
       "    </tr>\n",
       "    <tr>\n",
       "      <th>6</th>\n",
       "      <td>num_trips_missing_shapes</td>\n",
       "      <td>0</td>\n",
       "    </tr>\n",
       "    <tr>\n",
       "      <th>7</th>\n",
       "      <td>frac_trips_missing_shapes</td>\n",
       "      <td>0</td>\n",
       "    </tr>\n",
       "    <tr>\n",
       "      <th>8</th>\n",
       "      <td>num_departure_times_missing</td>\n",
       "      <td>0</td>\n",
       "    </tr>\n",
       "    <tr>\n",
       "      <th>9</th>\n",
       "      <td>frac_departure_times_missing</td>\n",
       "      <td>0</td>\n",
       "    </tr>\n",
       "    <tr>\n",
       "      <th>10</th>\n",
       "      <td>num_first_departure_times_missing</td>\n",
       "      <td>0</td>\n",
       "    </tr>\n",
       "    <tr>\n",
       "      <th>11</th>\n",
       "      <td>frac_first_departure_times_missing</td>\n",
       "      <td>0</td>\n",
       "    </tr>\n",
       "    <tr>\n",
       "      <th>12</th>\n",
       "      <td>num_last_departure_times_missing</td>\n",
       "      <td>0</td>\n",
       "    </tr>\n",
       "    <tr>\n",
       "      <th>13</th>\n",
       "      <td>frac_last_departure_times_missing</td>\n",
       "      <td>0</td>\n",
       "    </tr>\n",
       "    <tr>\n",
       "      <th>14</th>\n",
       "      <td>assessment</td>\n",
       "      <td>probably a fixable feed</td>\n",
       "    </tr>\n",
       "  </tbody>\n",
       "</table>\n",
       "</div>"
      ],
      "text/plain": [
       "                             indicator                    value\n",
       "0     num_route_short_names_duplicated                        0\n",
       "1    frac_route_short_names_duplicated                        0\n",
       "2          num_stop_time_dists_missing                   340007\n",
       "3         frac_stop_time_dists_missing                        1\n",
       "4            num_direction_ids_missing                        0\n",
       "5           frac_direction_ids_missing                        0\n",
       "6             num_trips_missing_shapes                        0\n",
       "7            frac_trips_missing_shapes                        0\n",
       "8          num_departure_times_missing                        0\n",
       "9         frac_departure_times_missing                        0\n",
       "10   num_first_departure_times_missing                        0\n",
       "11  frac_first_departure_times_missing                        0\n",
       "12    num_last_departure_times_missing                        0\n",
       "13   frac_last_departure_times_missing                        0\n",
       "14                          assessment  probably a fixable feed"
      ]
     },
     "execution_count": 2,
     "metadata": {},
     "output_type": "execute_result"
    }
   ],
   "source": [
    "path = DATA_DIR/'wellington_gtfs_20171016.zip'\n",
    "feed = gt.read_gtfs(path, dist_units='km')\n",
    "feed.assess_quality()"
   ]
  },
  {
   "cell_type": "code",
   "execution_count": 3,
   "metadata": {},
   "outputs": [],
   "source": [
    "# shapes_g = feed.shapes_to_geojson()\n",
    "# path = Path('../wellington_shapes_20171016.geojson')\n",
    "# with path.open('w') as tgt:\n",
    "#     json.dump(shapes_g, tgt)"
   ]
  },
  {
   "cell_type": "code",
   "execution_count": 4,
   "metadata": {},
   "outputs": [],
   "source": [
    "\"\"\"\n",
    "If no shapes, use stops only.\n",
    "If shapes, then add distances to stop times and to shapes\n",
    "\"\"\"\n",
    "trip_stats = feed.compute_trip_stats(compute_dist_from_shapes=True)\n",
    "feed = feed.append_dist_to_stop_times(trip_stats)\n"
   ]
  },
  {
   "cell_type": "code",
   "execution_count": 5,
   "metadata": {},
   "outputs": [],
   "source": [
    "def refine(xs, n):\n",
    "    \"\"\"\n",
    "    Given a strictly increasing NumPy array ``xs`` of at least two numbers\n",
    "    x_1 < x_2 < ... < x_r and a nonnegative integer ``n``, \n",
    "    insert into the list ``n`` more numbers between x_1 and x_r\n",
    "    in a spread-out way.\n",
    "    Return the resulting list as a NumPy array.\n",
    "    \"\"\"\n",
    "    while n > 0:\n",
    "        diffs = np.diff(xs)\n",
    "\n",
    "        # Get indices i, j of biggest diffs d_i > d_j.\n",
    "        # Use the method at https://stackoverflow.com/a/23734295 for speed.\n",
    "        try:\n",
    "            indices = np.argpartition(diffs, -2)[-2:]\n",
    "            i, j = indices[np.argsort(diffs[indices])[::-1]]\n",
    "            d_i, d_j = diffs[i], diffs[j]\n",
    "            \n",
    "            # Choose k => 1 least such that d_i/(k + 1) < d_j\n",
    "            # with the intent of inserting k evenly spaced points \n",
    "            # between x_i and x_{i+1}\n",
    "            k = int(max(1, np.ceil(d_i/d_j - 1)))\n",
    "\n",
    "            # Shrink k if necessary so as not to exceed number of remaining points\n",
    "            k = min(k, n)\n",
    "        except ValueError:\n",
    "            # Here xs has only two elements, hence diffs has only one element.\n",
    "            # Using try-except because faster than if-else.\n",
    "            i = 0\n",
    "            d_i = diffs[0]\n",
    "            k = n\n",
    "        \n",
    "        # Insert the k points, updating xs\n",
    "        xs = np.concatenate([\n",
    "          xs[:i + 1], \n",
    "          [xs[i] + s*d_i/(k + 1) for s in range(1, k + 1)], \n",
    "          xs[i + 1:]\n",
    "          ])\n",
    "        \n",
    "        # Update n\n",
    "        n -= k\n",
    "        \n",
    "    return xs"
   ]
  },
  {
   "cell_type": "code",
   "execution_count": 6,
   "metadata": {},
   "outputs": [],
   "source": [
    "# Test refine() some\n",
    "\n",
    "xs = np.array([0, 3/4, 1])\n",
    "assert np.array_equal(refine(xs, 0), xs)\n",
    "assert np.array_equal(refine(xs, 1), np.array([0, 3/8, 3/4, 1]))\n",
    "assert np.array_equal(refine(xs, 2), np.array([0, 1/4, 1/2, 3/4, 1]))\n",
    "assert np.array_equal(refine(xs, 3), np.array([0, 1/4, 1/2, 3/4, 7/8, 1]))"
   ]
  },
  {
   "cell_type": "code",
   "execution_count": 7,
   "metadata": {},
   "outputs": [],
   "source": [
    "def get_stop_patterns(feed, trip_ids=None, sep='-'):\n",
    "    \"\"\"\n",
    "    Return the DataFrame ``feed.trips`` with the additional column\n",
    "    \n",
    "    - ``'stop_pattern'``: string; the stop IDs along the \n",
    "      trip joined by the separator ``sep``\n",
    "      \n",
    "    If a list of trip IDs is also given, then restrict the output\n",
    "    to those trip IDs.\n",
    "    \"\"\"\n",
    "    st = feed.stop_times.sort_values(['trip_id', 'stop_sequence'])\n",
    "    if trip_ids is not None:\n",
    "        # Filter to given trip IDs\n",
    "        st = st[st['trip_id'].isin(trip_ids)].copy()\n",
    "            \n",
    "    def get_pattern(group):\n",
    "        return group.stop_id.str.cat(sep=sep)\n",
    "        \n",
    "    f = st.groupby('trip_id').apply(get_pattern).reset_index().rename(\n",
    "      columns={0: 'stop_pattern'})\n",
    "    return feed.trips.merge(f)\n"
   ]
  },
  {
   "cell_type": "code",
   "execution_count": 8,
   "metadata": {},
   "outputs": [],
   "source": [
    "def build_sample_points(feed, trip_ids=None, n=100):\n",
    "    \"\"\"\n",
    "    Given a GTFS feed (GTFSTK Feed instance), \n",
    "    preferably with a ``feed.stop_times.shape_dist_traveled`` column, \n",
    "    return a dictionary of the form \n",
    "    \n",
    "    stop pattern -> list of n (longitude, latitude) sample points along route.\n",
    "    \n",
    "    Regarding the list of sample points, suppose a stop pattern\n",
    "    witnessed by some trip has k stops.\n",
    "    If k < n, the trip has a shape, and all the ``shape_dist_traveled``\n",
    "    values of the trip's stop times are present, then the sample points \n",
    "    comprise the k stops of the trip along with ``n - k`` additional points\n",
    "    somewhat evenly sampled from the trip's shape, all in the order of the trip's travel.\n",
    "    Else if k > n, then the sample points include only n stops: no points (n=0); \n",
    "    the first stop (n=1); the first and the last stop (n=2);\n",
    "    the first, last, and n - k random stops (n > 2).\n",
    "    Else, the sample points are the k stops.\n",
    "    \n",
    "    If a list of trip IDs is given, then restrict to the stop patterns\n",
    "    of those trips.\n",
    "    Otherwise, build sample points for every stop pattern.\n",
    "    \n",
    "    NOTES:\n",
    "    \n",
    "    - In the case of choosing random stops, the choices will be the same\n",
    "      for across all runs of this function (by using a fixed \n",
    "      random number generator seed), which is good for debugging.\n",
    "    - The implementation assumes that if two trips have the same stop pattern, \n",
    "      then they also have the same shape.\n",
    "    \"\"\"\n",
    "    # Seed random number generator for reproducible results\n",
    "    np.random.seed(42)\n",
    "    \n",
    "    if trip_ids is None:\n",
    "        # Use all trip IDs\n",
    "        trip_ids = feed.trips.trip_id\n",
    "    \n",
    "    # Get stop patterns and choose a representative trip for each one\n",
    "    t = get_stop_patterns(feed, trip_ids)\n",
    "    t = t.groupby('stop_pattern').agg('first').reset_index()\n",
    "    trip_ids = t.trip_id\n",
    "    \n",
    "    # Get stops times for the representative trips\n",
    "    st = feed.stop_times\n",
    "    st = st[st['trip_id'].isin(trip_ids)].sort_values(\n",
    "      ['trip_id', 'stop_sequence'])\n",
    "    \n",
    "    # Join in stop patterns and shapes\n",
    "    st = st.merge(t[['trip_id', 'shape_id', 'stop_pattern']])\n",
    "    \n",
    "    # Join in stop locations\n",
    "    st = st.merge(feed.stops[['stop_id', 'stop_lon', 'stop_lat']])\n",
    "\n",
    "    # Create shape_dist_traveled column if it does not exist\n",
    "    if not 'shape_dist_traveled' in st:\n",
    "        st['shape_dist_traveled'] = np.nan\n",
    "    \n",
    "    # Get shape geometries\n",
    "    geom_by_shape = feed.build_geometry_by_shape(shape_ids=t.shape_id) or {}\n",
    "\n",
    "    # Build dict stop pattern -> list of (lon, lat) sample points.\n",
    "    # Since t contains unique stop patterns, no computations will be repeated.\n",
    "    points_by_sp = {}    \n",
    "    for stop_pattern, group in st.groupby('stop_pattern'):\n",
    "        shape_id, stop_pattern = group[['shape_id', 'stop_pattern']].iloc[0]           \n",
    "        k = group.shape[0]  # Number of stops along trip\n",
    "        if k < n and (shape_id in geom_by_shape)\\\n",
    "          and group['shape_dist_traveled'].notnull().all():\n",
    "            # Start with stop points, and mark their distances for later sorting.\n",
    "            # Scale distances to interval [0, 1] to avoid changing coordinate systems.            \n",
    "            group['shape_dist_traveled'] /= group['shape_dist_traveled'].max()\n",
    "            stop_points = group[['stop_lon', 'stop_lat', 'shape_dist_traveled']].values\n",
    "            dists = group['shape_dist_traveled'].values\n",
    "            \n",
    "            # Get n - k nicely spaced points from trip shape.\n",
    "            new_dists = np.setdiff1d(refine(dists, n - k), dists)                 \n",
    "            geom = geom_by_shape[shape_id]\n",
    "            shape_points = [\n",
    "              list(geom.interpolate(d, normalized=True).coords[0]) + [d]\n",
    "              for d in new_dists]\n",
    "            \n",
    "            # Combine with stop points and sort\n",
    "            points = sorted(np.concatenate([stop_points, shape_points]).tolist(), \n",
    "              key=lambda x: x[2])\n",
    "            \n",
    "            # Remove distance markers\n",
    "            points = [x[:2] for x in points]\n",
    "\n",
    "        elif k > n:\n",
    "            # Use n stop points only\n",
    "            if n == 0:\n",
    "                points = []\n",
    "            elif n == 1:\n",
    "                # First stop\n",
    "                points = group[['stop_lon', 'stop_lat']].iloc[0].values.tolist() \n",
    "            elif n == 2:\n",
    "                # First and last stop\n",
    "                ix = [0, k - 1]\n",
    "                points = group[['stop_lon', 'stop_lat']].iloc[ix].values.tolist() \n",
    "            else:\n",
    "                # First, last, and n - 2 random stops\n",
    "                ix = np.concatenate([[0, k - 1], \n",
    "                  np.random.choice(range(1, k - 1), n - 2, replace=False)])\n",
    "                ix = sorted(ix)\n",
    "                points = group[['stop_lon', 'stop_lat']].iloc[ix].values.tolist()\n",
    "        else:\n",
    "            # Best can do is use the stop points\n",
    "            points = group[['stop_lon', 'stop_lat']].values.tolist()\n",
    "\n",
    "        points_by_sp[stop_pattern] = points\n",
    "\n",
    "    return points_by_sp"
   ]
  },
  {
   "cell_type": "code",
   "execution_count": 9,
   "metadata": {},
   "outputs": [],
   "source": [
    "def get_secret(key, path='../secrets.json'):\n",
    "    \"\"\"\n",
    "    \"\"\"\n",
    "    with Path(path).open() as src:\n",
    "        secrets = json.load(src)\n",
    "    return secrets[key]\n"
   ]
  },
  {
   "cell_type": "code",
   "execution_count": 10,
   "metadata": {},
   "outputs": [
    {
     "ename": "NameError",
     "evalue": "name 'encode' is not defined",
     "output_type": "error",
     "traceback": [
      "\u001b[0;31m---------------------------------------------------------------------------\u001b[0m",
      "\u001b[0;31mNameError\u001b[0m                                 Traceback (most recent call last)",
      "\u001b[0;32m<ipython-input-10-a45f55e205a7>\u001b[0m in \u001b[0;36m<module>\u001b[0;34m()\u001b[0m\n\u001b[1;32m     27\u001b[0m     \u001b[0;34m[\u001b[0m\u001b[0;36m174.7873955\u001b[0m\u001b[0;34m,\u001b[0m \u001b[0;34m-\u001b[0m\u001b[0;36m41.24846454\u001b[0m\u001b[0;34m]\u001b[0m\u001b[0;34m,\u001b[0m\u001b[0;34m\u001b[0m\u001b[0m\n\u001b[1;32m     28\u001b[0m ]\n\u001b[0;32m---> 29\u001b[0;31m \u001b[0mencode\u001b[0m\u001b[0;34m(\u001b[0m\u001b[0mpoints\u001b[0m\u001b[0;34m)\u001b[0m\u001b[0;34m\u001b[0m\u001b[0m\n\u001b[0m\u001b[1;32m     30\u001b[0m \u001b[0mdecode\u001b[0m\u001b[0;34m(\u001b[0m\u001b[0mencode\u001b[0m\u001b[0;34m(\u001b[0m\u001b[0mpoints\u001b[0m\u001b[0;34m)\u001b[0m\u001b[0;34m)\u001b[0m\u001b[0;34m\u001b[0m\u001b[0m\n",
      "\u001b[0;31mNameError\u001b[0m: name 'encode' is not defined"
     ]
    }
   ],
   "source": [
    "def encode_points_google(points):\n",
    "    \"\"\"\n",
    "    Given a list of longitude-latitude points, return their string\n",
    "    representation suitable for Google's Snap to Roads API;\n",
    "    see https://developers.google.com/maps/documentation/roads/snap.\n",
    "    \"\"\"\n",
    "    return ('|').join(['{:.06f},{:.06f}'.format(p[1], p[0]) for p in points])\n",
    "\n",
    "def decode_points_google(points):\n",
    "    \"\"\"\n",
    "    Inverse of function :func:`encode_points_google`.\n",
    "    \"\"\"\n",
    "    return [[float(x) for x in p.split(',')[::-1]] for p in points.split('|')]\n",
    "\n",
    "def parse_response_google(response):\n",
    "    return [[x['location']['longitude'], x['location']['latitude']] for x in response]\n",
    "\n",
    "def query_google(points, api_key):\n",
    "    gmaps = googlemaps.Client(api_key)\n",
    "    points_g = encode_points_google(points)\n",
    "    response = gmaps.snap_to_roads(points_g, interpolate=True)\n",
    "    return parse_response_google(response)\n",
    "\n",
    "points = [\n",
    "    [174.7963112, -41.25589183999999],\n",
    "    [174.7836823, -41.27428288],\n",
    "    [174.7873955, -41.24846454],\n",
    "]\n",
    "encode(points)\n",
    "decode(encode(points))\n"
   ]
  },
  {
   "cell_type": "code",
   "execution_count": 69,
   "metadata": {},
   "outputs": [
    {
     "name": "stdout",
     "output_type": "stream",
     "text": [
      "{'error': 'No path could be found for input', 'status_code': 400, 'status': 'Bad Request', 'error_code': 442}\n"
     ]
    },
    {
     "ename": "HTTPError",
     "evalue": "400 Client Error: Bad Request for url: https://valhalla.mapzen.com/trace_route?api_key=mapzen-jLrDBSP",
     "output_type": "error",
     "traceback": [
      "\u001b[0;31m---------------------------------------------------------------------------\u001b[0m",
      "\u001b[0;31mHTTPError\u001b[0m                                 Traceback (most recent call last)",
      "\u001b[0;32m<ipython-input-69-351f0a42435f>\u001b[0m in \u001b[0;36m<module>\u001b[0;34m()\u001b[0m\n\u001b[1;32m     46\u001b[0m \u001b[0;31m#     [-76.983369, 38.892454]\u001b[0m\u001b[0;34m\u001b[0m\u001b[0;34m\u001b[0m\u001b[0m\n\u001b[1;32m     47\u001b[0m \u001b[0;31m# ]\u001b[0m\u001b[0;34m\u001b[0m\u001b[0;34m\u001b[0m\u001b[0m\n\u001b[0;32m---> 48\u001b[0;31m \u001b[0mquery_mapzen\u001b[0m\u001b[0;34m(\u001b[0m\u001b[0mpoints\u001b[0m\u001b[0;34m,\u001b[0m \u001b[0mget_secret\u001b[0m\u001b[0;34m(\u001b[0m\u001b[0;34m'MAPZEN_API_KEY'\u001b[0m\u001b[0;34m)\u001b[0m\u001b[0;34m)\u001b[0m\u001b[0;34m\u001b[0m\u001b[0m\n\u001b[0m",
      "\u001b[0;32m<ipython-input-69-351f0a42435f>\u001b[0m in \u001b[0;36mquery_mapzen\u001b[0;34m(points, api_key, url, kwargs)\u001b[0m\n\u001b[1;32m     30\u001b[0m     \u001b[0mr\u001b[0m \u001b[0;34m=\u001b[0m \u001b[0mrequests\u001b[0m\u001b[0;34m.\u001b[0m\u001b[0mpost\u001b[0m\u001b[0;34m(\u001b[0m\u001b[0murl\u001b[0m\u001b[0;34m,\u001b[0m \u001b[0mparams\u001b[0m\u001b[0;34m=\u001b[0m\u001b[0;34m{\u001b[0m\u001b[0;34m'api_key'\u001b[0m\u001b[0;34m:\u001b[0m \u001b[0mapi_key\u001b[0m\u001b[0;34m}\u001b[0m\u001b[0;34m,\u001b[0m \u001b[0mjson\u001b[0m\u001b[0;34m=\u001b[0m\u001b[0mdata\u001b[0m\u001b[0;34m)\u001b[0m\u001b[0;34m\u001b[0m\u001b[0m\n\u001b[1;32m     31\u001b[0m     \u001b[0mprint\u001b[0m\u001b[0;34m(\u001b[0m\u001b[0mr\u001b[0m\u001b[0;34m.\u001b[0m\u001b[0mjson\u001b[0m\u001b[0;34m(\u001b[0m\u001b[0;34m)\u001b[0m\u001b[0;34m)\u001b[0m\u001b[0;34m\u001b[0m\u001b[0m\n\u001b[0;32m---> 32\u001b[0;31m     \u001b[0mr\u001b[0m\u001b[0;34m.\u001b[0m\u001b[0mraise_for_status\u001b[0m\u001b[0;34m(\u001b[0m\u001b[0;34m)\u001b[0m\u001b[0;34m\u001b[0m\u001b[0m\n\u001b[0m\u001b[1;32m     33\u001b[0m     \u001b[0;32mreturn\u001b[0m \u001b[0mparse_response_mapzen\u001b[0m\u001b[0;34m(\u001b[0m\u001b[0mr\u001b[0m\u001b[0;34m.\u001b[0m\u001b[0mjson\u001b[0m\u001b[0;34m(\u001b[0m\u001b[0;34m)\u001b[0m\u001b[0;34m)\u001b[0m\u001b[0;34m\u001b[0m\u001b[0m\n\u001b[1;32m     34\u001b[0m \u001b[0;34m\u001b[0m\u001b[0m\n",
      "\u001b[0;32m~/.virtualenvs/snap_bus_routes/lib/python3.5/site-packages/requests/models.py\u001b[0m in \u001b[0;36mraise_for_status\u001b[0;34m(self)\u001b[0m\n\u001b[1;32m    933\u001b[0m \u001b[0;34m\u001b[0m\u001b[0m\n\u001b[1;32m    934\u001b[0m         \u001b[0;32mif\u001b[0m \u001b[0mhttp_error_msg\u001b[0m\u001b[0;34m:\u001b[0m\u001b[0;34m\u001b[0m\u001b[0m\n\u001b[0;32m--> 935\u001b[0;31m             \u001b[0;32mraise\u001b[0m \u001b[0mHTTPError\u001b[0m\u001b[0;34m(\u001b[0m\u001b[0mhttp_error_msg\u001b[0m\u001b[0;34m,\u001b[0m \u001b[0mresponse\u001b[0m\u001b[0;34m=\u001b[0m\u001b[0mself\u001b[0m\u001b[0;34m)\u001b[0m\u001b[0;34m\u001b[0m\u001b[0m\n\u001b[0m\u001b[1;32m    936\u001b[0m \u001b[0;34m\u001b[0m\u001b[0m\n\u001b[1;32m    937\u001b[0m     \u001b[0;32mdef\u001b[0m \u001b[0mclose\u001b[0m\u001b[0;34m(\u001b[0m\u001b[0mself\u001b[0m\u001b[0;34m)\u001b[0m\u001b[0;34m:\u001b[0m\u001b[0;34m\u001b[0m\u001b[0m\n",
      "\u001b[0;31mHTTPError\u001b[0m: 400 Client Error: Bad Request for url: https://valhalla.mapzen.com/trace_route?api_key=mapzen-jLrDBSP"
     ]
    }
   ],
   "source": [
    "def encode_points_mapzen(points):\n",
    "    \"\"\"\n",
    "    Given a list of longitude-latitude points, return their dictionary\n",
    "    representation suitable for Mapzen's Map Matching API;\n",
    "    see https://mapzen.com/documentation/mobility/map-matching/api-reference/#example-trace_attributes-requests\n",
    "    \"\"\"\n",
    "    return [{'lon': round(p[0], 6), 'lat': round(p[1], 6)} for p in points]\n",
    "\n",
    "def decode_points_mapzen(points):\n",
    "    \"\"\"\n",
    "    Inverse of function :func:`encode_points_mapzen`.\n",
    "    \"\"\"\n",
    "    return [[d['lon'], d['lat']] for d in points]\n",
    "\n",
    "def parse_response_mapzen(response):\n",
    "    pline = polyline.decode(response['trip']['legs'][0]['shape'])\n",
    "    \n",
    "    # Need to divide coordinates by 10 for some strange reason\n",
    "    return [(p[1]/10, p[0]/10) for p in pline]\n",
    "\n",
    "def query_mapzen(points, api_key, url='https://valhalla.mapzen.com/trace_route',\n",
    "  kwargs=None):\n",
    "    data = {\n",
    "        'shape': encode_points_mapzen(points),\n",
    "        'costing': 'auto',\n",
    "    }\n",
    "    if kwargs is not None:\n",
    "        data.update(kwargs)\n",
    "\n",
    "    r = requests.post(url, params={'api_key': api_key}, json=data)\n",
    "    print(r.json())\n",
    "    r.raise_for_status()\n",
    "    return parse_response_mapzen(r.json())\n",
    "\n",
    "\n",
    "points = [\n",
    "    [174.7963112, -41.25589183999999],\n",
    "    [174.7836823, -41.27428288],\n",
    "    [174.7873955, -41.24846454],\n",
    "]\n",
    "# points = [\n",
    "#     [-76.983345, 38.892459],\n",
    "#     [-76.983353, 38.892457],\n",
    "#     [-76.98336, 38.892457],\n",
    "#     [-76.983365, 38.892458],\n",
    "#     [-76.983369, 38.892454]\n",
    "# ]\n",
    "query_mapzen(points, get_secret('MAPZEN_API_KEY'))\n"
   ]
  },
  {
   "cell_type": "code",
   "execution_count": 62,
   "metadata": {},
   "outputs": [
    {
     "name": "stdout",
     "output_type": "stream",
     "text": [
      "CPU times: user 196 ms, sys: 0 ns, total: 196 ms\n",
      "Wall time: 196 ms\n"
     ]
    },
    {
     "name": "stderr",
     "output_type": "stream",
     "text": [
      "/home/araichev/.virtualenvs/snap_bus_routes/lib/python3.5/site-packages/ipykernel_launcher.py:71: SettingWithCopyWarning: \n",
      "A value is trying to be set on a copy of a slice from a DataFrame.\n",
      "Try using .loc[row_indexer,col_indexer] = value instead\n",
      "\n",
      "See the caveats in the documentation: http://pandas.pydata.org/pandas-docs/stable/indexing.html#indexing-view-versus-copy\n"
     ]
    },
    {
     "name": "stdout",
     "output_type": "stream",
     "text": [
      "CPU times: user 2.17 s, sys: 4 ms, total: 2.17 s\n",
      "Wall time: 2.17 s\n"
     ]
    }
   ],
   "source": [
    "t = feed.trips.merge(feed.routes)\n",
    "t = t[t['route_type'] == 3].sample(frac=0.01)\n",
    "%time sample_points_1 = build_sample_points(feed, t.trip_id, 4)\n",
    "%time sample_points_2 = build_sample_points(feed, t.trip_id, 100)\n"
   ]
  },
  {
   "cell_type": "code",
   "execution_count": 70,
   "metadata": {},
   "outputs": [
    {
     "name": "stdout",
     "output_type": "stream",
     "text": [
      "num stops= 49\n"
     ]
    }
   ],
   "source": [
    "sp = list(sample_points_1.keys())[0]\n",
    "print('num stops=', len(sp.split('-')))\n",
    "points_1 = sample_points_1[sp]\n",
    "points_2 = sample_points_2[sp]"
   ]
  },
  {
   "cell_type": "code",
   "execution_count": 71,
   "metadata": {},
   "outputs": [
    {
     "name": "stdout",
     "output_type": "stream",
     "text": [
      "{'trip': {'legs': [{'shape': 'peglmA}akmlIkBiv@kAiLyGs[{AqGs@iMTmJ~Hs[dUey@vCoIfJiMvHwClYyBhHwCdFsFfCqHl@sF?kLyBeOyGuY{AwDtJkKbG_TzEoHl@_@hH{@jk@tDtJtE|D?jF{@fDsGd@oHMcQsBgNkFgNiCsGyAyB}EwCm_@yW~CkK~DuYjAaSOePaCaQsAyC{FkK_IqH}NqGkBpGgCtEoDtEkQ`RyQbQqBzAsBzAyB?aC\\\\kU{AyB\\\\aC^}d@|SaG|@yG{AoIwC_D_@aI?sZxCcLgNaBwDaH{UW]sAyB}N}TiCqHu_@ukBaHyWoCoI}EoIyBwC|_@mt@bAyAfDqHfDuExGsFdEuDdF{Bt^kKbB]vpAo]|E}@fI?vpAdP|YtDriAlKhWvC~I?`G?vTyBhQwCtPkLfHqGbGqHdKyWnHyVtEwX|O_rAbz@bf@`jA|h@x`Azj@|hA|i@xWjKxVrGfr@lJrtAbPvXvDpf@pGdlB|Txp@nIrp@zAvR]|PyCz@{@bA}@|EcPlE{sAl@cQTmJm@?e@}@e@]E}@G{@F}@d@{@d@_@r@]V\\\\l@?d@^Tz@`C{@hB_@rG?hG^fJ_@rE]lF{@tDyCjGmI`CuFz@wCe@]]}@G{@F}@L{@d@]|@}@t@?l@\\\\\\\\^hLyWtJ{Us@{AG{AF{AT]l@{@bA}@dA?jA|@l@z@TzAGzAUz@vIpHxFtD~DzAhG\\\\l~@{A`W{@lF\\\\?{A\\\\yAl@}@r@]l@?^uEj@uElAoIdOyk@\\\\uDN{ANyBDyBFyBM]G}@F{@T_@T]d@]bByB`CyC`CuDhByBbB{AxByBnC{A`C{@fD_@|D]tE]rA?zA]|D}@bB]bGyBbVaSbFyArF_@hC?vS^fXz@t@?FmJLeOl@uE|@{AlEyBnC?b`A]zxA}@z@^bAz@^xBLzA^bQ_@vCkAvCyBzAgDzAyB}@mDyAwD_@a]|@so@]kF\\\\wDz@FxBU|@_@z@k@^r@jKrA|T`CvXbBlJjAtEjAxBl@]z@?l@\\\\\\\\|@Nz@|@zAbAz@`C|@fC]rB}@xA{@t@{ApBuEd@{At@{AjA]rA?d@?jA|@f@\\\\L\\\\pBuDpCyCnDyBrEwCpH{Apa@{AvN]jF{@rFyBtPqHzOsF`I{AhLyBbQ?pH{@vNyCpLqGnSkLjKsFnNuDjf@{A`H\\\\jZxBbf@rF~SzAxGxBlJvDx}B|}@fExB~CtEtDrExCtFnChLjAzV?hMd@jK\\\\vChCnI~CpH`S|SfI~SfDrFvCjK`ClKrAjKd@pHFrZ\\\\zj@t@n]lOhtB|D|i@pBfNzApHhClJePdOvCkKt@wCVyCTwCbAoIzApHhClJePdOkA|@uEpGqBvDeElJeJxV_^_To^uDgh@cQuEyBwXgNcA{AtO}TrKePdEuDhCzArAxAd@|@?tDiChNqBhL{F~StExBfh@bQn^tD~]~SaI|TgDpGzF|@zV_ThGwCnDz@jGrG~BnIjAlJ]jK\\\\kKkAmJ_CoIkGsGoD{@iGvC{V~S{F}@fDqG`I}T_^_To^uDgh@cQuEyBzF_TrA{AhCyAnC{AnD{Ab`@{i@rQ}UlEqG`CsFxBmJd@sFFaeBGsFzEqGpCqHrAsFrAqp@jA{BhHwCd@pHFrZ\\\\zj@t@n]lOhtB|D|i@pBfNzApHhClJlEnHzFrF`HvDhLvCnNxCbWrFfXrEfNxCxMtDdTrGpMtDjFzAlTtElZrFbLxBbKxBnNnH|OnJvNjKbLnI~MlJvHtDhHxC`SlJrFxB|ItDzQrGlJtDnIvD~MnIvMlJpMnH|DxBV{@l@]l@?l@?j@\\\\^\\\\T|@Fz@G|@U\\\\~HpHjLnHj_@zUt@^hWfNbLrFbLtDnNtEhLxBV?|N^nO?j`@?nH?fIz@|OvC|c@lKpHxAfI|@tE\\\\lE?h\\\\]n]}@lP{@tO]rF?nH?tF\\\\xFz@`NvDjFxBjFxBrQlJhRhMvb@xWn]dOrKtE`NjK~MnJrKnHfYhMtTpHlTlI~C|@`Dz@fIzAhL|@dcAvCjF\\\\de@|@hl@xB|Yz@T{@d@}@l@]t@]t@?j@z@l@^Vz@FzAv]z@h\\\\xBdOzAnNzA|ZxBhWzApG?`H{AfI{AfIyBt_@oIjA]pB{@rA_@nC{@rA}@rA{@dA]z@}@dA}@DyA^}@d@]r@]t@?t@?rA?z@_@`C{@jGwCfC{A~CyBtKsFfN{AzP\\\\p\\\\vDtfBbPpRxCvHtDzQpHnMrFt_@`RhMrFfIxB|IzAnJzApVvCfn@rFjK\\\\tE?tD]?{@F_@V{@\\\\]d@?d@?d@?\\\\\\\\Vz@nS}SrA{AlbAikAvIiLvaAyuAbBwD~CmIfCgONqGOuEMuEjUsFfJ{AhL{@~X}@`C?nX|@zZz@xH^nH}@pH{@hHyCpQkKfOgNjZib@vDyB|E{ArK?dOzAdKxC~HtDpGnIfDpGpClKzEhLfJhM`LjLdU`R`b@`R`a@~Sr[bQfDxA|YxWf^bf@vIhLfStZrFpH~CxBzZdOhMpHlEvCpBtDbBvD|EhMd@vCr@zAvDvCnIpHnN|TjFnHjdApeApGrGdFpGnCpGxBtFvDnHrFpHb[p\\\\zFtD~HxCtJxBdFxBzEvCrFrFvDvCvMrG~DxAlEzAlE\\\\vW|@l`@zArFz@dExBzKjL|O~S|DtD|EvDrUrFtOtDtJtEvHrF|OfNnDrFbFvD`NnIdJnHpGlKfEhMjAhLLlJe@fO{@nHiCbRaCfMd@^t@\\\\\\\\z@\\\\xB?^Ez@m@zAu@|@{@\\\\eA?e@jKUlJl@jLxB~RfHvX`Nn^bQp\\\\v]xk@rFlJzEnI|Uj`@jFvD|DxBdFz@~W]nN]vN}@|D]dK{A`]kLrFyAjKyB~H_@t@?~H?`SzArF\\\\rF]pWqGfS{ApG?lJ|@`Hz@`HxBdKpGjKtFxLvClJtD|PpHtJvDfI\\\\bK\\\\`R{Ab[uEzLzA~\\\\rGbWtDjj@|@pLz@zFvCrLrGfkA~|@lPnHpGzArKzAlFxB~RdOjFzAnD\\\\|E?fXuEzK]vD\\\\tDxBpHtF~R|SfYn^jKrFdJz@|JzAxHtEzPdObQnIr@]l@?rAz@t@zAL|@?z@dFrGtDxAhH|@rK?pH?|D?l@yBt@]z@}@|@?rA?bA|@|@z@`B|@l@\\\\~CzAhMtD`WvDhH?|O?pR?hH?`H?t^yCxW{@nX\\\\iMnpB_O{AsE{@eAxBkAvC_Yxk@]?]\\\\m@]m@?sKiLm@}@', 'summary': {'length': 20.929, 'min_lon': 174.804779, 'max_lon': 174.843231, 'time': 1929, 'max_lat': -41.108311, 'min_lat': -41.224773}, 'maneuvers': [{'travel_mode': 'drive', 'length': 0.57, 'travel_type': 'car', 'end_shape_index': 20, 'street_names': ['Pikarere Street'], 'instruction': 'Drive east on Pikarere Street.', 'begin_shape_index': 0, 'type': 1, 'verbal_pre_transition_instruction': 'Drive east on Pikarere Street for 600 meters.', 'time': 75}, {'begin_shape_index': 20, 'end_shape_index': 38, 'instruction': 'Turn right onto Hiwi Crescent.', 'travel_type': 'car', 'type': 10, 'verbal_pre_transition_instruction': 'Turn right onto Hiwi Crescent.', 'travel_mode': 'drive', 'length': 0.422, 'verbal_post_transition_instruction': 'Continue for 400 meters.', 'time': 62, 'street_names': ['Hiwi Crescent'], 'verbal_transition_alert_instruction': 'Turn right onto Hiwi Crescent.'}, {'begin_shape_index': 38, 'end_shape_index': 47, 'instruction': 'Turn right onto Pikarere Street.', 'travel_type': 'car', 'type': 10, 'verbal_pre_transition_instruction': 'Turn right onto Pikarere Street.', 'travel_mode': 'drive', 'length': 0.214, 'verbal_post_transition_instruction': 'Continue for 200 meters.', 'time': 36, 'street_names': ['Pikarere Street'], 'verbal_transition_alert_instruction': 'Turn right onto Pikarere Street.'}, {'begin_shape_index': 47, 'end_shape_index': 66, 'instruction': 'Turn left onto View Road.', 'travel_type': 'car', 'type': 15, 'verbal_pre_transition_instruction': 'Turn left onto View Road.', 'travel_mode': 'drive', 'length': 0.405, 'verbal_post_transition_instruction': 'Continue for 400 meters.', 'time': 54, 'street_names': ['View Road'], 'verbal_transition_alert_instruction': 'Turn left onto View Road.'}, {'begin_shape_index': 66, 'end_shape_index': 78, 'instruction': 'Turn right onto Tireti Road.', 'travel_type': 'car', 'type': 10, 'verbal_pre_transition_instruction': 'Turn right onto Tireti Road.', 'travel_mode': 'drive', 'length': 0.378, 'verbal_post_transition_instruction': 'Continue for 400 meters.', 'time': 58, 'street_names': ['Tireti Road'], 'verbal_transition_alert_instruction': 'Turn right onto Tireti Road.'}, {'begin_shape_index': 78, 'end_shape_index': 105, 'instruction': 'Turn right onto Te Pene Avenue.', 'travel_type': 'car', 'type': 10, 'verbal_pre_transition_instruction': 'Turn right onto Te Pene Avenue.', 'travel_mode': 'drive', 'length': 1.204, 'verbal_post_transition_instruction': 'Continue for 1.2 kilometers.', 'time': 108, 'street_names': ['Te Pene Avenue'], 'verbal_transition_alert_instruction': 'Turn right onto Te Pene Avenue.'}, {'begin_shape_index': 105, 'end_shape_index': 120, 'instruction': 'Turn right onto Titahi Bay Road.', 'travel_type': 'car', 'type': 10, 'verbal_pre_transition_instruction': 'Turn right onto Titahi Bay Road.', 'travel_mode': 'drive', 'length': 1.437, 'verbal_post_transition_instruction': 'Continue for 1.4 kilometers.', 'time': 91, 'street_names': ['Titahi Bay Road'], 'verbal_transition_alert_instruction': 'Turn right onto Titahi Bay Road.'}, {'begin_shape_index': 120, 'time': 1, 'length': 0.009, 'travel_mode': 'drive', 'end_shape_index': 122, 'roundabout_exit_count': 1, 'instruction': 'Enter the roundabout and take the 1st exit.', 'travel_type': 'car', 'type': 26, 'verbal_transition_alert_instruction': 'Enter the roundabout and take the 1st exit.', 'verbal_pre_transition_instruction': 'Enter the roundabout and take the 1st exit.'}, {'begin_shape_index': 122, 'travel_mode': 'drive', 'length': 0.18, 'verbal_post_transition_instruction': 'Continue for 200 meters.', 'end_shape_index': 126, 'street_names': ['Semple Street'], 'instruction': 'Exit the roundabout onto Semple Street.', 'travel_type': 'car', 'type': 27, 'verbal_pre_transition_instruction': 'Exit the roundabout onto Semple Street.', 'time': 14}, {'begin_shape_index': 126, 'time': 4, 'length': 0.034, 'travel_mode': 'drive', 'end_shape_index': 139, 'roundabout_exit_count': 2, 'instruction': 'Enter the roundabout and take the 2nd exit.', 'travel_type': 'car', 'type': 26, 'verbal_transition_alert_instruction': 'Enter the roundabout and take the 2nd exit.', 'verbal_pre_transition_instruction': 'Enter the roundabout and take the 2nd exit.'}, {'begin_shape_index': 139, 'travel_mode': 'drive', 'length': 0.141, 'verbal_post_transition_instruction': 'Continue for 100 meters.', 'end_shape_index': 150, 'street_names': ['Parumoana Street'], 'instruction': 'Exit the roundabout onto Parumoana Street.', 'travel_type': 'car', 'type': 27, 'verbal_pre_transition_instruction': 'Exit the roundabout onto Parumoana Street.', 'time': 11}, {'begin_shape_index': 150, 'time': 3, 'length': 0.028, 'travel_mode': 'drive', 'end_shape_index': 160, 'roundabout_exit_count': 2, 'instruction': 'Enter the roundabout and take the 2nd exit.', 'travel_type': 'car', 'type': 26, 'verbal_transition_alert_instruction': 'Enter the roundabout and take the 2nd exit.', 'verbal_pre_transition_instruction': 'Enter the roundabout and take the 2nd exit.'}, {'begin_shape_index': 160, 'travel_mode': 'drive', 'length': 0.078, 'verbal_post_transition_instruction': 'Continue for 80 meters.', 'end_shape_index': 162, 'street_names': ['Parumoana Street'], 'instruction': 'Exit the roundabout onto Parumoana Street.', 'travel_type': 'car', 'type': 27, 'verbal_pre_transition_instruction': 'Exit the roundabout onto Parumoana Street.', 'time': 7}, {'begin_shape_index': 162, 'time': 4, 'length': 0.045, 'travel_mode': 'drive', 'end_shape_index': 174, 'roundabout_exit_count': 3, 'instruction': 'Enter the roundabout and take the 3rd exit.', 'travel_type': 'car', 'type': 26, 'verbal_transition_alert_instruction': 'Enter the roundabout and take the 3rd exit.', 'verbal_pre_transition_instruction': 'Enter the roundabout and take the 3rd exit.'}, {'begin_shape_index': 174, 'travel_mode': 'drive', 'length': 0.234, 'verbal_post_transition_instruction': 'Continue for 200 meters.', 'end_shape_index': 181, 'street_names': ['Norrie Street'], 'instruction': 'Exit the roundabout onto Norrie Street.', 'travel_type': 'car', 'type': 27, 'verbal_pre_transition_instruction': 'Exit the roundabout onto Norrie Street.', 'time': 23}, {'begin_shape_index': 181, 'time': 3, 'length': 0.017, 'travel_mode': 'drive', 'end_shape_index': 186, 'roundabout_exit_count': 1, 'instruction': 'Enter the roundabout and take the 1st exit.', 'travel_type': 'car', 'type': 26, 'verbal_transition_alert_instruction': 'Enter the roundabout and take the 1st exit.', 'verbal_pre_transition_instruction': 'Enter the roundabout and take the 1st exit.'}, {'begin_shape_index': 186, 'travel_mode': 'drive', 'length': 0.1, 'verbal_post_transition_instruction': 'Continue for 100 meters.', 'end_shape_index': 190, 'street_names': ['Lyttleton Avenue'], 'instruction': 'Exit the roundabout onto Lyttleton Avenue.', 'travel_type': 'car', 'type': 27, 'verbal_pre_transition_instruction': 'Exit the roundabout onto Lyttleton Avenue.', 'time': 9}, {'begin_shape_index': 190, 'time': 9, 'length': 0.039, 'travel_mode': 'drive', 'end_shape_index': 201, 'roundabout_exit_count': 1, 'instruction': 'Enter the roundabout and take the 1st exit.', 'travel_type': 'car', 'type': 26, 'verbal_transition_alert_instruction': 'Enter the roundabout and take the 1st exit.', 'verbal_pre_transition_instruction': 'Enter the roundabout and take the 1st exit.'}, {'travel_type': 'car', 'end_shape_index': 217, 'instruction': 'Exit the roundabout onto Lytteon Avenue.', 'verbal_multi_cue': True, 'type': 27, 'verbal_pre_transition_instruction': 'Exit the roundabout onto Lytteon Avenue. Then Bear left onto Lyttleton Avenue.', 'travel_mode': 'drive', 'length': 0.141, 'verbal_post_transition_instruction': 'Continue for 100 meters.', 'time': 10, 'begin_shape_index': 201, 'street_names': ['Lytteon Avenue']}, {'begin_shape_index': 217, 'end_shape_index': 224, 'instruction': 'Bear left onto Lyttleton Avenue.', 'travel_type': 'car', 'type': 16, 'verbal_pre_transition_instruction': 'Bear left onto Lyttleton Avenue.', 'travel_mode': 'drive', 'length': 0.169, 'verbal_post_transition_instruction': 'Continue for 200 meters.', 'time': 14, 'street_names': ['Lyttleton Avenue'], 'verbal_transition_alert_instruction': 'Bear left onto Lyttleton Avenue.'}, {'begin_shape_index': 224, 'end_shape_index': 237, 'instruction': 'Turn left onto Station Road.', 'travel_type': 'car', 'type': 15, 'verbal_pre_transition_instruction': 'Turn left onto Station Road.', 'travel_mode': 'drive', 'length': 0.39, 'verbal_post_transition_instruction': 'Continue for 400 meters.', 'time': 78, 'street_names': ['Station Road'], 'verbal_transition_alert_instruction': 'Turn left onto Station Road.'}, {'travel_type': 'car', 'end_shape_index': 241, 'instruction': 'Bear right to stay on Station Road.', 'verbal_multi_cue': True, 'type': 9, 'verbal_pre_transition_instruction': 'Bear right to stay on Station Road. Then Bear right onto Lyttleton Avenue.', 'travel_mode': 'drive', 'length': 0.032, 'verbal_post_transition_instruction': 'Continue for 30 meters.', 'street_names': ['Station Road'], 'time': 8, 'begin_shape_index': 237, 'verbal_transition_alert_instruction': 'Bear right to stay on Station Road.'}, {'begin_shape_index': 241, 'end_shape_index': 248, 'instruction': 'Bear right onto Lyttleton Avenue.', 'travel_type': 'car', 'type': 9, 'verbal_pre_transition_instruction': 'Bear right onto Lyttleton Avenue.', 'travel_mode': 'drive', 'length': 0.192, 'verbal_post_transition_instruction': 'Continue for 200 meters.', 'time': 19, 'street_names': ['Lyttleton Avenue'], 'verbal_transition_alert_instruction': 'Bear right onto Lyttleton Avenue.'}, {'begin_shape_index': 248, 'time': 2, 'length': 0.014, 'travel_mode': 'drive', 'end_shape_index': 252, 'roundabout_exit_count': 1, 'instruction': 'Enter the roundabout and take the 1st exit.', 'travel_type': 'car', 'type': 26, 'verbal_transition_alert_instruction': 'Enter the roundabout and take the 1st exit.', 'verbal_pre_transition_instruction': 'Enter the roundabout and take the 1st exit.'}, {'begin_shape_index': 252, 'travel_mode': 'drive', 'length': 0.115, 'verbal_post_transition_instruction': 'Continue for 100 meters.', 'end_shape_index': 258, 'street_names': ['Walton Leigh Avenue'], 'instruction': 'Exit the roundabout onto Walton Leigh Avenue.', 'travel_type': 'car', 'type': 27, 'verbal_pre_transition_instruction': 'Exit the roundabout onto Walton Leigh Avenue.', 'time': 9}, {'begin_shape_index': 258, 'time': 3, 'length': 0.015, 'travel_mode': 'drive', 'end_shape_index': 263, 'roundabout_exit_count': 1, 'instruction': 'Enter the roundabout and take the 1st exit.', 'travel_type': 'car', 'type': 26, 'verbal_transition_alert_instruction': 'Enter the roundabout and take the 1st exit.', 'verbal_pre_transition_instruction': 'Enter the roundabout and take the 1st exit.'}, {'begin_shape_index': 263, 'travel_mode': 'drive', 'length': 0.054, 'verbal_post_transition_instruction': 'Continue for 50 meters.', 'end_shape_index': 271, 'street_names': ['Walton Leigh Avenue'], 'instruction': 'Exit the roundabout onto Walton Leigh Avenue.', 'travel_type': 'car', 'type': 27, 'verbal_pre_transition_instruction': 'Exit the roundabout onto Walton Leigh Avenue.', 'time': 5}, {'begin_shape_index': 271, 'time': 4, 'length': 0.029, 'travel_mode': 'drive', 'end_shape_index': 279, 'roundabout_exit_count': 2, 'instruction': 'Enter the roundabout and take the 2nd exit.', 'travel_type': 'car', 'type': 26, 'verbal_transition_alert_instruction': 'Enter the roundabout and take the 2nd exit.', 'verbal_pre_transition_instruction': 'Enter the roundabout and take the 2nd exit.'}, {'begin_shape_index': 279, 'travel_mode': 'drive', 'length': 1.754, 'verbal_post_transition_instruction': 'Continue for 1.8 kilometers.', 'end_shape_index': 333, 'street_names': ['Kenepuru Drive'], 'instruction': 'Exit the roundabout onto Kenepuru Drive.', 'travel_type': 'car', 'type': 27, 'verbal_pre_transition_instruction': 'Exit the roundabout onto Kenepuru Drive.', 'time': 117}, {'travel_type': 'car', 'end_shape_index': 334, 'instruction': 'Turn right onto Raiha Street.', 'verbal_multi_cue': True, 'type': 10, 'verbal_pre_transition_instruction': 'Turn right onto Raiha Street. Then Turn sharp right to stay on Raiha Street.', 'travel_mode': 'drive', 'length': 0.038, 'verbal_post_transition_instruction': 'Continue for 40 meters.', 'street_names': ['Raiha Street'], 'time': 10, 'begin_shape_index': 333, 'verbal_transition_alert_instruction': 'Turn right onto Raiha Street.'}, {'travel_type': 'car', 'end_shape_index': 339, 'instruction': 'Turn sharp right to stay on Raiha Street.', 'verbal_multi_cue': True, 'type': 11, 'verbal_pre_transition_instruction': 'Turn sharp right to stay on Raiha Street. Then Turn sharp right onto Kenepuru Drive.', 'travel_mode': 'drive', 'length': 0.053, 'verbal_post_transition_instruction': 'Continue for 50 meters.', 'street_names': ['Raiha Street'], 'time': 14, 'begin_shape_index': 334, 'verbal_transition_alert_instruction': 'Turn sharp right to stay on Raiha Street.'}, {'travel_type': 'car', 'end_shape_index': 341, 'instruction': 'Turn sharp right onto Kenepuru Drive.', 'verbal_multi_cue': True, 'type': 11, 'verbal_pre_transition_instruction': 'Turn sharp right onto Kenepuru Drive. Then Turn right onto Raiha Street.', 'travel_mode': 'drive', 'length': 0.031, 'verbal_post_transition_instruction': 'Continue for 30 meters.', 'street_names': ['Kenepuru Drive'], 'time': 12, 'begin_shape_index': 339, 'verbal_transition_alert_instruction': 'Turn sharp right onto Kenepuru Drive.'}, {'travel_type': 'car', 'end_shape_index': 347, 'instruction': 'Turn right onto Raiha Street.', 'verbal_multi_cue': True, 'type': 10, 'verbal_pre_transition_instruction': 'Turn right onto Raiha Street. Then Turn right onto Hospital Drive.', 'travel_mode': 'drive', 'length': 0.126, 'verbal_post_transition_instruction': 'Continue for 100 meters.', 'street_names': ['Raiha Street'], 'time': 21, 'begin_shape_index': 341, 'verbal_transition_alert_instruction': 'Turn right onto Raiha Street.'}, {'begin_shape_index': 347, 'end_shape_index': 353, 'instruction': 'Turn right onto Hospital Drive.', 'travel_type': 'car', 'type': 10, 'verbal_pre_transition_instruction': 'Turn right onto Hospital Drive.', 'travel_mode': 'drive', 'length': 0.265, 'verbal_post_transition_instruction': 'Continue for 300 meters.', 'time': 33, 'street_names': ['Hospital Drive'], 'verbal_transition_alert_instruction': 'Turn right onto Hospital Drive.'}, {'begin_shape_index': 353, 'time': 35, 'length': 0.154, 'verbal_post_transition_instruction': 'Continue for 200 meters.', 'travel_mode': 'drive', 'end_shape_index': 362, 'instruction': 'Turn right.', 'travel_type': 'car', 'type': 10, 'verbal_transition_alert_instruction': 'Turn right.', 'verbal_pre_transition_instruction': 'Turn right.'}, {'travel_type': 'car', 'end_shape_index': 363, 'instruction': 'Continue on Ambulance Drive.', 'verbal_multi_cue': True, 'type': 8, 'verbal_pre_transition_instruction': 'Continue on Ambulance Drive for 30 meters. Then Turn left onto Hospital Drive.', 'travel_mode': 'drive', 'length': 0.031, 'time': 4, 'begin_shape_index': 362, 'street_names': ['Ambulance Drive'], 'verbal_transition_alert_instruction': 'Continue on Ambulance Drive.'}, {'begin_shape_index': 363, 'end_shape_index': 367, 'instruction': 'Turn left onto Hospital Drive.', 'travel_type': 'car', 'type': 15, 'verbal_pre_transition_instruction': 'Turn left onto Hospital Drive.', 'travel_mode': 'drive', 'length': 0.209, 'verbal_post_transition_instruction': 'Continue for 200 meters.', 'time': 22, 'street_names': ['Hospital Drive'], 'verbal_transition_alert_instruction': 'Turn left onto Hospital Drive.'}, {'travel_type': 'car', 'end_shape_index': 369, 'instruction': 'Turn right onto Raiha Street.', 'verbal_multi_cue': True, 'type': 10, 'verbal_pre_transition_instruction': 'Turn right onto Raiha Street. Then Turn left.', 'travel_mode': 'drive', 'length': 0.049, 'verbal_post_transition_instruction': 'Continue for 50 meters.', 'street_names': ['Raiha Street'], 'time': 16, 'begin_shape_index': 367, 'verbal_transition_alert_instruction': 'Turn right onto Raiha Street.'}, {'begin_shape_index': 369, 'time': 13, 'length': 0.159, 'verbal_post_transition_instruction': 'Continue for 200 meters.', 'travel_mode': 'drive', 'end_shape_index': 377, 'instruction': 'Turn left.', 'travel_type': 'car', 'type': 15, 'verbal_transition_alert_instruction': 'Turn left.', 'verbal_pre_transition_instruction': 'Turn left.'}, {'begin_shape_index': 377, 'time': 25, 'length': 0.159, 'verbal_post_transition_instruction': 'Continue for 200 meters.', 'travel_mode': 'drive', 'end_shape_index': 385, 'instruction': 'Make a right U-turn.', 'travel_type': 'car', 'type': 12, 'verbal_transition_alert_instruction': 'Make a right U-turn.', 'verbal_pre_transition_instruction': 'Make a right U-turn.'}, {'travel_type': 'car', 'end_shape_index': 387, 'instruction': 'Turn right onto Raiha Street.', 'verbal_multi_cue': True, 'type': 10, 'verbal_pre_transition_instruction': 'Turn right onto Raiha Street. Then Turn left onto Hospital Drive.', 'travel_mode': 'drive', 'length': 0.049, 'verbal_post_transition_instruction': 'Continue for 50 meters.', 'street_names': ['Raiha Street'], 'time': 15, 'begin_shape_index': 385, 'verbal_transition_alert_instruction': 'Turn right onto Raiha Street.'}, {'begin_shape_index': 387, 'end_shape_index': 391, 'instruction': 'Turn left onto Hospital Drive.', 'travel_type': 'car', 'type': 15, 'verbal_pre_transition_instruction': 'Turn left onto Hospital Drive.', 'travel_mode': 'drive', 'length': 0.209, 'verbal_post_transition_instruction': 'Continue for 200 meters.', 'time': 22, 'street_names': ['Hospital Drive'], 'verbal_transition_alert_instruction': 'Turn left onto Hospital Drive.'}, {'travel_type': 'car', 'end_shape_index': 392, 'instruction': 'Turn right onto Ambulance Drive.', 'verbal_multi_cue': True, 'type': 10, 'verbal_pre_transition_instruction': 'Turn right onto Ambulance Drive. Then Bear right to stay on Ambulance Drive.', 'travel_mode': 'drive', 'length': 0.031, 'verbal_post_transition_instruction': 'Continue for 30 meters.', 'street_names': ['Ambulance Drive'], 'time': 10, 'begin_shape_index': 391, 'verbal_transition_alert_instruction': 'Turn right onto Ambulance Drive.'}, {'begin_shape_index': 392, 'end_shape_index': 404, 'instruction': 'Bear right to stay on Ambulance Drive.', 'travel_type': 'car', 'type': 9, 'verbal_pre_transition_instruction': 'Bear right to stay on Ambulance Drive.', 'travel_mode': 'drive', 'length': 0.364, 'verbal_post_transition_instruction': 'Continue for 400 meters.', 'time': 38, 'street_names': ['Ambulance Drive'], 'verbal_transition_alert_instruction': 'Bear right to stay on Ambulance Drive.'}, {'begin_shape_index': 404, 'end_shape_index': 410, 'instruction': 'Turn right to stay on Ambulance Drive.', 'travel_type': 'car', 'type': 10, 'verbal_pre_transition_instruction': 'Turn right to stay on Ambulance Drive.', 'travel_mode': 'drive', 'length': 0.134, 'verbal_post_transition_instruction': 'Continue for 100 meters.', 'time': 20, 'street_names': ['Ambulance Drive'], 'verbal_transition_alert_instruction': 'Turn right to stay on Ambulance Drive.'}, {'begin_shape_index': 410, 'end_shape_index': 426, 'instruction': 'Turn right onto Kenepuru Drive.', 'travel_type': 'car', 'type': 10, 'verbal_pre_transition_instruction': 'Turn right onto Kenepuru Drive.', 'travel_mode': 'drive', 'length': 0.617, 'verbal_post_transition_instruction': 'Continue for 600 meters.', 'time': 54, 'street_names': ['Kenepuru Drive'], 'verbal_transition_alert_instruction': 'Turn right onto Kenepuru Drive.'}, {'begin_shape_index': 426, 'time': 46, 'length': 0.716, 'travel_mode': 'drive', 'end_shape_index': 452, 'street_names': ['Main Road'], 'instruction': 'Continue on Main Road.', 'travel_type': 'car', 'type': 8, 'verbal_transition_alert_instruction': 'Continue on Main Road.', 'verbal_pre_transition_instruction': 'Continue on Main Road for 700 meters.'}, {'begin_shape_index': 452, 'time': 3, 'length': 0.026, 'travel_mode': 'drive', 'end_shape_index': 462, 'roundabout_exit_count': 3, 'instruction': 'Enter the roundabout and take the 3rd exit.', 'travel_type': 'car', 'type': 26, 'verbal_transition_alert_instruction': 'Enter the roundabout and take the 3rd exit.', 'verbal_pre_transition_instruction': 'Enter the roundabout and take the 3rd exit.'}, {'begin_shape_index': 462, 'travel_mode': 'drive', 'length': 1.706, 'verbal_post_transition_instruction': 'Continue for 1.7 kilometers.', 'end_shape_index': 514, 'street_names': ['Main Road'], 'instruction': 'Exit the roundabout onto Main Road.', 'travel_type': 'car', 'type': 27, 'verbal_pre_transition_instruction': 'Exit the roundabout onto Main Road.', 'time': 109}, {'begin_shape_index': 514, 'time': 2, 'length': 0.029, 'travel_mode': 'drive', 'end_shape_index': 523, 'roundabout_exit_count': 2, 'instruction': 'Enter the roundabout and take the 2nd exit.', 'travel_type': 'car', 'type': 26, 'verbal_transition_alert_instruction': 'Enter the roundabout and take the 2nd exit.', 'verbal_pre_transition_instruction': 'Enter the roundabout and take the 2nd exit.'}, {'begin_shape_index': 523, 'travel_mode': 'drive', 'length': 0.435, 'verbal_post_transition_instruction': 'Continue for 400 meters.', 'end_shape_index': 543, 'street_names': ['Main Road'], 'instruction': 'Exit the roundabout onto Main Road.', 'travel_type': 'car', 'type': 27, 'verbal_pre_transition_instruction': 'Exit the roundabout onto Main Road.', 'time': 30}, {'begin_shape_index': 543, 'time': 2, 'length': 0.019, 'travel_mode': 'drive', 'end_shape_index': 549, 'roundabout_exit_count': 2, 'instruction': 'Enter the roundabout and take the 2nd exit.', 'travel_type': 'car', 'type': 26, 'verbal_transition_alert_instruction': 'Enter the roundabout and take the 2nd exit.', 'verbal_pre_transition_instruction': 'Enter the roundabout and take the 2nd exit.'}, {'begin_shape_index': 549, 'travel_mode': 'drive', 'length': 0.814, 'verbal_post_transition_instruction': 'Continue for 800 meters.', 'end_shape_index': 574, 'street_names': ['Main Road'], 'instruction': 'Exit the roundabout onto Main Road.', 'travel_type': 'car', 'type': 27, 'verbal_pre_transition_instruction': 'Exit the roundabout onto Main Road.', 'time': 51}, {'begin_shape_index': 574, 'time': 2, 'length': 0.02, 'travel_mode': 'drive', 'end_shape_index': 583, 'roundabout_exit_count': 1, 'instruction': 'Enter the roundabout and take the 1st exit.', 'travel_type': 'car', 'type': 26, 'verbal_transition_alert_instruction': 'Enter the roundabout and take the 1st exit.', 'verbal_pre_transition_instruction': 'Enter the roundabout and take the 1st exit.'}, {'begin_shape_index': 583, 'travel_mode': 'drive', 'length': 0.481, 'verbal_post_transition_instruction': 'Continue for a half kilometer.', 'end_shape_index': 594, 'street_names': ['Main Road'], 'instruction': 'Exit the roundabout onto Main Road.', 'travel_type': 'car', 'type': 27, 'verbal_pre_transition_instruction': 'Exit the roundabout onto Main Road.', 'time': 32}, {'begin_shape_index': 594, 'end_shape_index': 610, 'instruction': 'Turn right onto Willowbank Road.', 'travel_type': 'car', 'type': 10, 'verbal_pre_transition_instruction': 'Turn right onto Willowbank Road.', 'travel_mode': 'drive', 'length': 0.469, 'verbal_post_transition_instruction': 'Continue for a half kilometer.', 'time': 36, 'street_names': ['Willowbank Road'], 'verbal_transition_alert_instruction': 'Turn right onto Willowbank Road.'}, {'begin_shape_index': 610, 'end_shape_index': 687, 'instruction': 'Bear right onto Middleton Road.', 'travel_type': 'car', 'type': 9, 'verbal_pre_transition_instruction': 'Bear right onto Middleton Road.', 'travel_mode': 'drive', 'length': 2.075, 'verbal_post_transition_instruction': 'Continue for 2.1 kilometers.', 'time': 127, 'street_names': ['Middleton Road'], 'verbal_transition_alert_instruction': 'Bear right onto Middleton Road.'}, {'begin_shape_index': 687, 'time': 3, 'length': 0.033, 'travel_mode': 'drive', 'end_shape_index': 697, 'roundabout_exit_count': 2, 'instruction': 'Enter the roundabout and take the 2nd exit.', 'travel_type': 'car', 'type': 26, 'verbal_transition_alert_instruction': 'Enter the roundabout and take the 2nd exit.', 'verbal_pre_transition_instruction': 'Enter the roundabout and take the 2nd exit.'}, {'begin_shape_index': 697, 'travel_mode': 'drive', 'length': 2.164, 'verbal_post_transition_instruction': 'Continue for 2.2 kilometers.', 'end_shape_index': 770, 'street_names': ['Middleton Road'], 'instruction': 'Exit the roundabout onto Middleton Road.', 'travel_type': 'car', 'type': 27, 'verbal_pre_transition_instruction': 'Exit the roundabout onto Middleton Road.', 'time': 167}, {'begin_shape_index': 770, 'time': 2, 'length': 0.021, 'travel_mode': 'drive', 'end_shape_index': 776, 'roundabout_exit_count': 2, 'instruction': 'Enter the roundabout and take the 2nd exit.', 'travel_type': 'car', 'type': 26, 'verbal_transition_alert_instruction': 'Enter the roundabout and take the 2nd exit.', 'verbal_pre_transition_instruction': 'Enter the roundabout and take the 2nd exit.'}, {'begin_shape_index': 776, 'travel_mode': 'drive', 'length': 0.095, 'verbal_post_transition_instruction': 'Continue for 100 meters.', 'end_shape_index': 782, 'street_names': ['Moorefield Road'], 'instruction': 'Exit the roundabout onto Moorefield Road.', 'travel_type': 'car', 'type': 27, 'verbal_pre_transition_instruction': 'Exit the roundabout onto Moorefield Road.', 'time': 8}, {'begin_shape_index': 782, 'time': 3, 'length': 0.03, 'travel_mode': 'drive', 'end_shape_index': 789, 'roundabout_exit_count': 2, 'instruction': 'Enter the roundabout and take the 2nd exit.', 'travel_type': 'car', 'type': 26, 'verbal_transition_alert_instruction': 'Enter the roundabout and take the 2nd exit.', 'verbal_pre_transition_instruction': 'Enter the roundabout and take the 2nd exit.'}, {'begin_shape_index': 789, 'travel_mode': 'drive', 'length': 0.351, 'verbal_post_transition_instruction': 'Continue for 400 meters.', 'end_shape_index': 802, 'street_names': ['Johnsonville Road'], 'instruction': 'Exit the roundabout onto Johnsonville Road.', 'travel_type': 'car', 'type': 27, 'verbal_pre_transition_instruction': 'Exit the roundabout onto Johnsonville Road.', 'time': 32}, {'begin_shape_index': 802, 'end_shape_index': 803, 'instruction': 'Turn right onto Broderick Road.', 'travel_type': 'car', 'type': 10, 'verbal_pre_transition_instruction': 'Turn right onto Broderick Road.', 'travel_mode': 'drive', 'length': 0.154, 'verbal_post_transition_instruction': 'Continue for 200 meters.', 'time': 20, 'street_names': ['Broderick Road'], 'verbal_transition_alert_instruction': 'Turn right onto Broderick Road.'}, {'begin_shape_index': 803, 'end_shape_index': 814, 'instruction': 'Turn right onto Gothic Street.', 'travel_type': 'car', 'type': 10, 'verbal_pre_transition_instruction': 'Turn right onto Gothic Street.', 'travel_mode': 'drive', 'length': 0.173, 'verbal_post_transition_instruction': 'Continue for 200 meters.', 'time': 49, 'street_names': ['Gothic Street'], 'verbal_transition_alert_instruction': 'Turn right onto Gothic Street.'}, {'travel_mode': 'drive', 'begin_shape_index': 814, 'verbal_pre_transition_instruction': 'You have arrived at your destination.', 'length': 0.0, 'end_shape_index': 814, 'instruction': 'You have arrived at your destination.', 'travel_type': 'car', 'type': 4, 'verbal_transition_alert_instruction': 'You will arrive at your destination.', 'time': 0}]}], 'status': 0, 'language': 'en-US', 'status_message': 'Found route between points', 'units': 'kilometers', 'summary': {'length': 20.929, 'min_lon': 174.804779, 'max_lon': 174.843231, 'time': 1929, 'max_lat': -41.108311, 'min_lat': -41.224773}, 'locations': [{'type': 'break', 'lon': 174.823456, 'lat': -41.111526}, {'type': 'break', 'lon': 174.804962, 'lat': -41.223331}]}}\n"
     ]
    }
   ],
   "source": [
    "\n",
    "l2 = sg.LineString(points_2)\n",
    "points_2s = query_mapzen(points_2, get_secret('MAPZEN_API_KEY'))\n",
    "l2s = sg.LineString(points_2s)\n",
    "\n",
    "# Get actual trip shape\n",
    "p = get_stop_patterns(feed, t.trip_id)\n",
    "shid = p.loc[p['stop_pattern'] == sp, 'shape_id'].unique()[0]\n",
    "l3 = feed.build_geometry_by_shape(shape_ids=[shid], use_utm=False)[shid]\n"
   ]
  },
  {
   "cell_type": "code",
   "execution_count": 73,
   "metadata": {},
   "outputs": [
    {
     "data": {
      "text/html": [
       "<div style=\"width:100%;\"><div style=\"position:relative;width:100%;height:0;padding-bottom:60%;\"><iframe src=\"data:text/html;charset=utf-8;base64,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\" style=\"position:absolute;width:100%;height:100%;left:0;top:0;border:none !important;\" allowfullscreen webkitallowfullscreen mozallowfullscreen></iframe></div></div>"
      ],
      "text/plain": [
       "<folium.folium.Map at 0x7f60ac4e6780>"
      ]
     },
     "execution_count": 73,
     "metadata": {},
     "output_type": "execute_result"
    }
   ],
   "source": [
    "# Plot\n",
    "import folium\n",
    "\n",
    "\n",
    "mappy = folium.Map(location=points_2[0][::-1], zoom_start=15)\n",
    "folium.GeoJson(sg.mapping(l2), style_function=lambda x: {'color': 'blue'}).add_to(mappy)\n",
    "folium.GeoJson(sg.mapping(l2s), style_function=lambda x: {'color': 'red'}).add_to(mappy)\n",
    "folium.GeoJson(sg.mapping(l3), style_function=lambda x: {'color': 'green'}).add_to(mappy)\n",
    "mappy"
   ]
  },
  {
   "cell_type": "code",
   "execution_count": 85,
   "metadata": {},
   "outputs": [
    {
     "data": {
      "text/plain": [
       "468"
      ]
     },
     "execution_count": 85,
     "metadata": {},
     "output_type": "execute_result"
    }
   ],
   "source": [
    "get_stop_patterns(feed)['stop_pattern'].nunique()"
   ]
  },
  {
   "cell_type": "code",
   "execution_count": null,
   "metadata": {},
   "outputs": [],
   "source": []
  }
 ],
 "metadata": {
  "kernelspec": {
   "display_name": "Python 3",
   "language": "python",
   "name": "python3"
  },
  "language_info": {
   "codemirror_mode": {
    "name": "ipython",
    "version": 3
   },
   "file_extension": ".py",
   "mimetype": "text/x-python",
   "name": "python",
   "nbconvert_exporter": "python",
   "pygments_lexer": "ipython3",
   "version": "3.5.2"
  }
 },
 "nbformat": 4,
 "nbformat_minor": 2
}
