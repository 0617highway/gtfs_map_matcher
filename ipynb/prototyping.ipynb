{
 "cells": [
  {
   "cell_type": "code",
   "execution_count": 29,
   "metadata": {},
   "outputs": [
    {
     "name": "stdout",
     "output_type": "stream",
     "text": [
      "The autoreload extension is already loaded. To reload it, use:\n",
      "  %reload_ext autoreload\n"
     ]
    }
   ],
   "source": [
    "from pathlib import Path\n",
    "import json\n",
    "import sys\n",
    "\n",
    "import gtfstk as gt\n",
    "import pandas as pd\n",
    "import numpy as np\n",
    "import shapely.geometry as sg\n",
    "import folium\n",
    "\n",
    "sys.path.append('../')\n",
    "\n",
    "import gtfs_map_matcher as mm\n",
    "\n",
    "%load_ext autoreload\n",
    "%autoreload 2\n",
    "\n",
    "DATA_DIR = Path('../data')\n",
    "OUT_DIR = Path('../output')\n",
    "SECRETS_PATH = Path('../secrets.json')"
   ]
  },
  {
   "cell_type": "code",
   "execution_count": 36,
   "metadata": {
    "scrolled": false
   },
   "outputs": [
    {
     "name": "stdout",
     "output_type": "stream",
     "text": [
      "{'warningMessage': \"Input path is too sparse. You should provide a path where consecutive points are closer to each other. Refer to the 'path' parameter in Google Roads API documentation.\", 'snappedPoints': [{'location': {'longitude': 174.80501397147776, 'latitude': -41.22335545870424}, 'originalIndex': 0, 'placeId': 'ChIJ8dqN_LetOG0RzRAx6EPYfqQ'}, {'location': {'longitude': 174.7967170172291, 'latitude': -41.246993559684476}, 'originalIndex': 1, 'placeId': 'ChIJTcHE8XSuOG0RQLWtBmHvABM'}]}\n",
      "{'warningMessage': \"Input path is too sparse. You should provide a path where consecutive points are closer to each other. Refer to the 'path' parameter in Google Roads API documentation.\", 'snappedPoints': [{'location': {'longitude': 174.8431671586028, 'latitude': -41.137424437287834}, 'originalIndex': 0, 'placeId': 'ChIJUzPxV25TP20RgBgWB2HvABM'}, {'location': {'longitude': 174.82814702694546, 'latitude': -41.13063985048523}, 'originalIndex': 1, 'placeId': 'ChIJoYfK2A5TP20RobqrBmHvABM'}]}\n"
     ]
    },
    {
     "data": {
      "text/plain": [
       "{'bingo': [[174.8431671586028, -41.137424437287834],\n",
       "  [174.82814702694546, -41.13063985048523]],\n",
       " 'bongo': [[174.80501397147776, -41.22335545870424],\n",
       "  [174.7967170172291, -41.246993559684476]]}"
      ]
     },
     "execution_count": 36,
     "metadata": {},
     "output_type": "execute_result"
    }
   ],
   "source": [
    "points_by_key = {\n",
    "    'bingo': [\n",
    "        [174.843234, -41.137425],\n",
    "        [174.828152, -41.130639],\n",
    "    ],\n",
    "    'bongo': [\n",
    "        [174.80496399999998, -41.22333],\n",
    "        [174.796785, -41.247057],\n",
    "    ]\n",
    "}\n",
    "\n",
    "mm.map_match_google(points_by_key, mm.get_secret(SECRETS_PATH, 'GOOGLE_API_KEY'))"
   ]
  },
  {
   "cell_type": "code",
   "execution_count": 2,
   "metadata": {},
   "outputs": [
    {
     "data": {
      "text/html": [
       "<div>\n",
       "<style>\n",
       "    .dataframe thead tr:only-child th {\n",
       "        text-align: right;\n",
       "    }\n",
       "\n",
       "    .dataframe thead th {\n",
       "        text-align: left;\n",
       "    }\n",
       "\n",
       "    .dataframe tbody tr th {\n",
       "        vertical-align: top;\n",
       "    }\n",
       "</style>\n",
       "<table border=\"1\" class=\"dataframe\">\n",
       "  <thead>\n",
       "    <tr style=\"text-align: right;\">\n",
       "      <th></th>\n",
       "      <th>indicator</th>\n",
       "      <th>value</th>\n",
       "    </tr>\n",
       "  </thead>\n",
       "  <tbody>\n",
       "    <tr>\n",
       "      <th>0</th>\n",
       "      <td>num_route_short_names_duplicated</td>\n",
       "      <td>0</td>\n",
       "    </tr>\n",
       "    <tr>\n",
       "      <th>1</th>\n",
       "      <td>frac_route_short_names_duplicated</td>\n",
       "      <td>0</td>\n",
       "    </tr>\n",
       "    <tr>\n",
       "      <th>2</th>\n",
       "      <td>num_stop_time_dists_missing</td>\n",
       "      <td>0</td>\n",
       "    </tr>\n",
       "    <tr>\n",
       "      <th>3</th>\n",
       "      <td>frac_stop_time_dists_missing</td>\n",
       "      <td>0</td>\n",
       "    </tr>\n",
       "    <tr>\n",
       "      <th>4</th>\n",
       "      <td>num_direction_ids_missing</td>\n",
       "      <td>0</td>\n",
       "    </tr>\n",
       "    <tr>\n",
       "      <th>5</th>\n",
       "      <td>frac_direction_ids_missing</td>\n",
       "      <td>0</td>\n",
       "    </tr>\n",
       "    <tr>\n",
       "      <th>6</th>\n",
       "      <td>num_trips_missing_shapes</td>\n",
       "      <td>0</td>\n",
       "    </tr>\n",
       "    <tr>\n",
       "      <th>7</th>\n",
       "      <td>frac_trips_missing_shapes</td>\n",
       "      <td>0</td>\n",
       "    </tr>\n",
       "    <tr>\n",
       "      <th>8</th>\n",
       "      <td>num_departure_times_missing</td>\n",
       "      <td>0</td>\n",
       "    </tr>\n",
       "    <tr>\n",
       "      <th>9</th>\n",
       "      <td>frac_departure_times_missing</td>\n",
       "      <td>0</td>\n",
       "    </tr>\n",
       "    <tr>\n",
       "      <th>10</th>\n",
       "      <td>num_first_departure_times_missing</td>\n",
       "      <td>0</td>\n",
       "    </tr>\n",
       "    <tr>\n",
       "      <th>11</th>\n",
       "      <td>frac_first_departure_times_missing</td>\n",
       "      <td>0</td>\n",
       "    </tr>\n",
       "    <tr>\n",
       "      <th>12</th>\n",
       "      <td>num_last_departure_times_missing</td>\n",
       "      <td>0</td>\n",
       "    </tr>\n",
       "    <tr>\n",
       "      <th>13</th>\n",
       "      <td>frac_last_departure_times_missing</td>\n",
       "      <td>0</td>\n",
       "    </tr>\n",
       "    <tr>\n",
       "      <th>14</th>\n",
       "      <td>assessment</td>\n",
       "      <td>good feed</td>\n",
       "    </tr>\n",
       "  </tbody>\n",
       "</table>\n",
       "</div>"
      ],
      "text/plain": [
       "                             indicator      value\n",
       "0     num_route_short_names_duplicated          0\n",
       "1    frac_route_short_names_duplicated          0\n",
       "2          num_stop_time_dists_missing          0\n",
       "3         frac_stop_time_dists_missing          0\n",
       "4            num_direction_ids_missing          0\n",
       "5           frac_direction_ids_missing          0\n",
       "6             num_trips_missing_shapes          0\n",
       "7            frac_trips_missing_shapes          0\n",
       "8          num_departure_times_missing          0\n",
       "9         frac_departure_times_missing          0\n",
       "10   num_first_departure_times_missing          0\n",
       "11  frac_first_departure_times_missing          0\n",
       "12    num_last_departure_times_missing          0\n",
       "13   frac_last_departure_times_missing          0\n",
       "14                          assessment  good feed"
      ]
     },
     "execution_count": 2,
     "metadata": {},
     "output_type": "execute_result"
    }
   ],
   "source": [
    "path = DATA_DIR/'wellington_gtfs_20171016.zip'\n",
    "feed = gt.read_gtfs(path, dist_units='km')\n",
    "feed.assess_quality()"
   ]
  },
  {
   "cell_type": "code",
   "execution_count": 16,
   "metadata": {},
   "outputs": [
    {
     "name": "stdout",
     "output_type": "stream",
     "text": [
      "CPU times: user 1.1 s, sys: 0 ns, total: 1.1 s\n",
      "Wall time: 1.1 s\n",
      "CPU times: user 1.94 s, sys: 28 ms, total: 1.97 s\n",
      "Wall time: 1.95 s\n",
      "CPU times: user 2.55 s, sys: 0 ns, total: 2.55 s\n",
      "Wall time: 2.53 s\n",
      "num stop patterns =  181\n"
     ]
    }
   ],
   "source": [
    "# Create sample points\n",
    "\n",
    "t = feed.trips.merge(feed.routes)\n",
    "cond = t['route_short_name'].str.len() == 2\n",
    "cond &= t['route_type'] == 3\n",
    "t = t[cond].copy()\n",
    "%time spoints_1 = mm.sample_trip_points(feed, t.trip_id, 5)\n",
    "%time spoints_2 = mm.sample_trip_points(feed, t.trip_id, 100)\n",
    "%time spoints_3 = mm.sample_trip_points(feed, t.trip_id, point_dist=0.1)\n",
    "\n",
    "print('num stop patterns = ', len(spoints_2))\n",
    "pattern = list(spoints_1.keys())[0]\n"
   ]
  },
  {
   "cell_type": "code",
   "execution_count": null,
   "metadata": {},
   "outputs": [],
   "source": [
    "l1 = sg.LineString(spoints_1[pattern])\n",
    "l2 = sg.LineString(spoints_2[pattern])\n",
    "l3 = sg.LineString(spoints_3[pattern])\n",
    "\n",
    "# Get actual trip shape\n",
    "p = mm.get_stop_patterns(feed)\n",
    "shid = p.loc[p['stop_pattern'] == pattern, 'shape_id'].unique()[0]\n",
    "la = feed.build_geometry_by_shape(shape_ids=[shid], use_utm=False)[shid]\n",
    "\n",
    "mappy = folium.Map(location=spoints_1[pattern][0][::-1], zoom_start=14)\n",
    "folium.GeoJson(sg.mapping(l1), \n",
    "  style_function=lambda x: {'color': 'red'}).add_to(mappy)\n",
    "folium.GeoJson(sg.mapping(l2), \n",
    "  style_function=lambda x: {'color': 'orange'}).add_to(mappy)\n",
    "folium.GeoJson(sg.mapping(l3), \n",
    "  style_function=lambda x: {'color': 'yellow'}).add_to(mappy)\n",
    "folium.GeoJson(sg.mapping(la), \n",
    "  style_function=lambda x: {'color': 'green'}).add_to(mappy)\n",
    "mappy"
   ]
  },
  {
   "cell_type": "code",
   "execution_count": null,
   "metadata": {},
   "outputs": [],
   "source": [
    "# Map match with Mapzen\n",
    "\n",
    "mpoints = mm.map_match_mapzen({pattern: spoints_2[pattern]},\n",
    "  mm.get_secret(SECRETS_PATH, 'MAPZEN_API_KEY'))[pattern]\n",
    "lm = sg.LineString(mpoints)\n",
    "\n",
    "mappy = folium.Map(location=spoints_1[pattern][0][::-1], zoom_start=14)\n",
    "folium.GeoJson(sg.mapping(la), \n",
    "  style_function=lambda x: {'color': 'green'}).add_to(mappy)\n",
    "folium.GeoJson(sg.mapping(lm), \n",
    "  style_function=lambda x: {'color': 'red'}).add_to(mappy)\n",
    "mappy\n"
   ]
  },
  {
   "cell_type": "code",
   "execution_count": null,
   "metadata": {},
   "outputs": [],
   "source": [
    "# Map match with OSRM\n",
    "\n",
    "mpoints = mm.map_match_osrm({pattern: spoints_2[pattern]})[pattern]\n",
    "lm = sg.LineString(mpoints)\n",
    "\n",
    "mappy = folium.Map(location=spoints_1[pattern][0][::-1], zoom_start=14)\n",
    "folium.GeoJson(sg.mapping(la), \n",
    "  style_function=lambda x: {'color': 'green'}).add_to(mappy)\n",
    "folium.GeoJson(sg.mapping(lm), \n",
    "  style_function=lambda x: {'color': 'red'}).add_to(mappy)\n",
    "mappy\n"
   ]
  },
  {
   "cell_type": "code",
   "execution_count": null,
   "metadata": {},
   "outputs": [],
   "source": [
    "# Map match with Mapbox, which uses OSRM\n",
    "\n",
    "mpoints = mm.map_match_mapbox({pattern: spoints_2[pattern]},\n",
    "  mm.get_secret(SECRETS_PATH, 'MAPBOX_API_KEY'))[pattern]\n",
    "lm = sg.LineString(mpoints)\n",
    "\n",
    "mappy = folium.Map(location=spoints_1[pattern][0][::-1], zoom_start=14)\n",
    "folium.GeoJson(sg.mapping(la), \n",
    "  style_function=lambda x: {'color': 'green'}).add_to(mappy)\n",
    "folium.GeoJson(sg.mapping(lm), \n",
    "  style_function=lambda x: {'color': 'red'}).add_to(mappy)\n",
    "mappy\n"
   ]
  },
  {
   "cell_type": "code",
   "execution_count": null,
   "metadata": {},
   "outputs": [],
   "source": [
    "# Map match with Google\n",
    "\n",
    "mpoints = mm.map_match_google({pattern: spoints_2[pattern]},\n",
    "  mm.get_secret(SECRETS_PATH, 'GOOGLE_API_KEY'))[pattern]\n",
    "lm = sg.LineString(mpoints)\n",
    "\n",
    "mappy = folium.Map(location=spoints_1[pattern][0][::-1], zoom_start=14)\n",
    "folium.GeoJson(sg.mapping(la), \n",
    "  style_function=lambda x: {'color': 'green'}).add_to(mappy)\n",
    "folium.GeoJson(sg.mapping(lm), \n",
    "  style_function=lambda x: {'color': 'red'}).add_to(mappy)\n",
    "mappy\n"
   ]
  },
  {
   "cell_type": "code",
   "execution_count": null,
   "metadata": {},
   "outputs": [],
   "source": [
    "# Test batch map match\n",
    "\n",
    "n = 10\n",
    "print('num requests =', n)\n",
    "#test = {k: v for k, v in list(spoints_2.items())[:n]}\n",
    "#api_key = mm.get_secret(SECRETS_PATH, 'GOOGLE_API_KEY')\n",
    "api_key = mm.get_secret(SECRETS_PATH, 'MAPBOX_API_KEY')\n",
    "\n",
    "%time mpoints = mm.map_match(test, 'mapbox', api_key)"
   ]
  },
  {
   "cell_type": "code",
   "execution_count": 14,
   "metadata": {},
   "outputs": [
    {
     "name": "stdout",
     "output_type": "stream",
     "text": [
      "426\n"
     ]
    }
   ],
   "source": [
    "print(mm.get_num_map_matching_calls(feed))"
   ]
  },
  {
   "cell_type": "code",
   "execution_count": null,
   "metadata": {},
   "outputs": [],
   "source": [
    "t = feed.trips.merge(feed.routes)\n",
    "trip_id, shape_id = t.loc[t['route_type'] == 3, ['trip_id', 'shape_id']].iloc[0].values\n",
    "print(trip_id, shape_id)\n",
    "trip_ids = [trip_id]\n",
    "%time feed2 = mm.create_shapes(feed, 'google', mm.get_secret(SECRETS_PATH, 'GOOGLE_API_KEY'), trip_ids=trip_ids)"
   ]
  },
  {
   "cell_type": "code",
   "execution_count": null,
   "metadata": {},
   "outputs": [],
   "source": [
    "print(feed.shapes[feed.shapes.shape_id == shape_id])\n",
    "print(feed2.shapes[feed2.shapes.shape_id == shape_id])"
   ]
  },
  {
   "cell_type": "code",
   "execution_count": null,
   "metadata": {},
   "outputs": [],
   "source": []
  }
 ],
 "metadata": {
  "kernelspec": {
   "display_name": "Python 3",
   "language": "python",
   "name": "python3"
  },
  "language_info": {
   "codemirror_mode": {
    "name": "ipython",
    "version": 3
   },
   "file_extension": ".py",
   "mimetype": "text/x-python",
   "name": "python",
   "nbconvert_exporter": "python",
   "pygments_lexer": "ipython3",
   "version": "3.5.2"
  }
 },
 "nbformat": 4,
 "nbformat_minor": 2
}
